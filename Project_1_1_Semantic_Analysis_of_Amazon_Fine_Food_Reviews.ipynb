{
  "nbformat": 4,
  "nbformat_minor": 0,
  "metadata": {
    "kernelspec": {
      "display_name": "Python 3",
      "language": "python",
      "name": "python3"
    },
    "language_info": {
      "codemirror_mode": {
        "name": "ipython",
        "version": 3
      },
      "file_extension": ".py",
      "mimetype": "text/x-python",
      "name": "python",
      "nbconvert_exporter": "python",
      "pygments_lexer": "ipython3",
      "version": "3.6.5"
    },
    "colab": {
      "name": "Project 1.1 - Semantic Analysis of Amazon Fine Food Reviews.ipynb",
      "provenance": [],
      "include_colab_link": true
    }
  },
  "cells": [
    {
      "cell_type": "markdown",
      "metadata": {
        "id": "view-in-github",
        "colab_type": "text"
      },
      "source": [
        "<a href=\"https://colab.research.google.com/github/krvamsi96/pro-machine-learning-algorithms/blob/master/Project_1_1_Semantic_Analysis_of_Amazon_Fine_Food_Reviews.ipynb\" target=\"_parent\"><img src=\"https://colab.research.google.com/assets/colab-badge.svg\" alt=\"Open In Colab\"/></a>"
      ]
    },
    {
      "cell_type": "markdown",
      "metadata": {
        "id": "_NCgijh6uLYM",
        "colab_type": "text"
      },
      "source": [
        "### Amazon Fine Food Reviews Analysis\n",
        "Data Source: https://www.kaggle.com/snap/amazon-fine-food-reviews\n",
        "\n",
        "EDA: https://nycdatascience.com/blog/student-works/amazon-fine-foods-visualization/\n",
        "\n",
        "The Amazon Fine Food Reviews dataset consists of reviews of fine foods from Amazon.\n",
        "\n",
        "Number of reviews: 568,454\n",
        "Number of users: 256,059\n",
        "Number of products: 74,258\n",
        "Timespan: Oct 1999 - Oct 2012\n",
        "Number of Attributes/Columns in data: 10\n",
        "\n",
        "#### Attribute Information:\n",
        "\n",
        "Id\n",
        "ProductId - unique identifier for the product\n",
        "UserId - unqiue identifier for the user\n",
        "ProfileName\n",
        "HelpfulnessNumerator - number of users who found the review helpful\n",
        "HelpfulnessDenominator - number of users who indicated whether they found the review helpful or not\n",
        "Score - rating between 1 and 5\n",
        "Time - timestamp for the review\n",
        "Summary - brief summary of the review\n",
        "Text - text of the review\n",
        "\n",
        "#### Objective:\n",
        "Given a review, determine whether the review is positive (rating of 4 or 5) or negative (rating of 1 or 2).\n",
        "\n",
        "\n",
        "[Q] How to determine if a review is positive or negative?\n",
        "\n",
        "[Ans] We could use Score/Rating. A rating of 4 or 5 can be cosnidered as a positive review. A rating of 1 or 2 can be considered as negative one. A review of rating 3 is considered nuetral and such reviews are ignored from our analysis. This is an approximate and proxy way of determining the polarity (positivity/negativity) of a review."
      ]
    },
    {
      "cell_type": "markdown",
      "metadata": {
        "id": "78by4tnluLYU",
        "colab_type": "text"
      },
      "source": [
        "### Importing Libraries"
      ]
    },
    {
      "cell_type": "code",
      "metadata": {
        "id": "V6ixcRw5uLYY",
        "colab_type": "code",
        "colab": {}
      },
      "source": [
        "#Ignoring unnecessory warnings\n",
        "import warnings\n",
        "warnings.filterwarnings(\"ignore\")                    \n",
        "\n",
        "#for large and multi-dimensional arrays\n",
        "import numpy as np                                  \n",
        "\n",
        "#for data manipulation and analysis\n",
        "import pandas as pd                                 \n",
        "\n",
        "#Natural language processing tool-kit\n",
        "#NLTK is a leading platform for building Python programs to work with human language data.\n",
        "import nltk                                         \n",
        "\n",
        "#Stopwords corpus\n",
        "from nltk.corpus import stopwords  \n",
        "\n",
        "# Stemmer\n",
        "from nltk.stem import PorterStemmer                 \n",
        "\n",
        "#For Bag of words\n",
        "from sklearn.feature_extraction.text import CountVectorizer   \n",
        "\n",
        "#For TF-IDF\n",
        "from sklearn.feature_extraction.text import TfidfVectorizer          \n",
        "\n",
        "#For Word2Vec\n",
        "from gensim.models import Word2Vec                                   "
      ],
      "execution_count": 0,
      "outputs": []
    },
    {
      "cell_type": "markdown",
      "metadata": {
        "id": "g8YXL-ZkuLYk",
        "colab_type": "text"
      },
      "source": [
        "### Reading Data"
      ]
    },
    {
      "cell_type": "code",
      "metadata": {
        "id": "J8XKlHA5uLYk",
        "colab_type": "code",
        "colab": {}
      },
      "source": [
        "df = pd.read_csv('/Users/mohdsaquib/downloads/amazon/Reviews.csv')"
      ],
      "execution_count": 0,
      "outputs": []
    },
    {
      "cell_type": "markdown",
      "metadata": {
        "id": "C5pqxYJ3uLZA",
        "colab_type": "text"
      },
      "source": [
        "### Exploratory Data Analysis"
      ]
    },
    {
      "cell_type": "code",
      "metadata": {
        "id": "K4sH29R5uLZA",
        "colab_type": "code",
        "colab": {},
        "outputId": "c47251af-83a8-419f-c652-129faee30a2d"
      },
      "source": [
        "# Getting the head of data \n",
        "df.head()"
      ],
      "execution_count": 0,
      "outputs": [
        {
          "output_type": "execute_result",
          "data": {
            "text/html": [
              "<div>\n",
              "<style scoped>\n",
              "    .dataframe tbody tr th:only-of-type {\n",
              "        vertical-align: middle;\n",
              "    }\n",
              "\n",
              "    .dataframe tbody tr th {\n",
              "        vertical-align: top;\n",
              "    }\n",
              "\n",
              "    .dataframe thead th {\n",
              "        text-align: right;\n",
              "    }\n",
              "</style>\n",
              "<table border=\"1\" class=\"dataframe\">\n",
              "  <thead>\n",
              "    <tr style=\"text-align: right;\">\n",
              "      <th></th>\n",
              "      <th>Id</th>\n",
              "      <th>ProductId</th>\n",
              "      <th>UserId</th>\n",
              "      <th>ProfileName</th>\n",
              "      <th>HelpfulnessNumerator</th>\n",
              "      <th>HelpfulnessDenominator</th>\n",
              "      <th>Score</th>\n",
              "      <th>Time</th>\n",
              "      <th>Summary</th>\n",
              "      <th>Text</th>\n",
              "    </tr>\n",
              "  </thead>\n",
              "  <tbody>\n",
              "    <tr>\n",
              "      <th>0</th>\n",
              "      <td>1</td>\n",
              "      <td>B001E4KFG0</td>\n",
              "      <td>A3SGXH7AUHU8GW</td>\n",
              "      <td>delmartian</td>\n",
              "      <td>1</td>\n",
              "      <td>1</td>\n",
              "      <td>5</td>\n",
              "      <td>1303862400</td>\n",
              "      <td>Good Quality Dog Food</td>\n",
              "      <td>I have bought several of the Vitality canned d...</td>\n",
              "    </tr>\n",
              "    <tr>\n",
              "      <th>1</th>\n",
              "      <td>2</td>\n",
              "      <td>B00813GRG4</td>\n",
              "      <td>A1D87F6ZCVE5NK</td>\n",
              "      <td>dll pa</td>\n",
              "      <td>0</td>\n",
              "      <td>0</td>\n",
              "      <td>1</td>\n",
              "      <td>1346976000</td>\n",
              "      <td>Not as Advertised</td>\n",
              "      <td>Product arrived labeled as Jumbo Salted Peanut...</td>\n",
              "    </tr>\n",
              "    <tr>\n",
              "      <th>2</th>\n",
              "      <td>3</td>\n",
              "      <td>B000LQOCH0</td>\n",
              "      <td>ABXLMWJIXXAIN</td>\n",
              "      <td>Natalia Corres \"Natalia Corres\"</td>\n",
              "      <td>1</td>\n",
              "      <td>1</td>\n",
              "      <td>4</td>\n",
              "      <td>1219017600</td>\n",
              "      <td>\"Delight\" says it all</td>\n",
              "      <td>This is a confection that has been around a fe...</td>\n",
              "    </tr>\n",
              "    <tr>\n",
              "      <th>3</th>\n",
              "      <td>4</td>\n",
              "      <td>B000UA0QIQ</td>\n",
              "      <td>A395BORC6FGVXV</td>\n",
              "      <td>Karl</td>\n",
              "      <td>3</td>\n",
              "      <td>3</td>\n",
              "      <td>2</td>\n",
              "      <td>1307923200</td>\n",
              "      <td>Cough Medicine</td>\n",
              "      <td>If you are looking for the secret ingredient i...</td>\n",
              "    </tr>\n",
              "    <tr>\n",
              "      <th>4</th>\n",
              "      <td>5</td>\n",
              "      <td>B006K2ZZ7K</td>\n",
              "      <td>A1UQRSCLF8GW1T</td>\n",
              "      <td>Michael D. Bigham \"M. Wassir\"</td>\n",
              "      <td>0</td>\n",
              "      <td>0</td>\n",
              "      <td>5</td>\n",
              "      <td>1350777600</td>\n",
              "      <td>Great taffy</td>\n",
              "      <td>Great taffy at a great price.  There was a wid...</td>\n",
              "    </tr>\n",
              "  </tbody>\n",
              "</table>\n",
              "</div>"
            ],
            "text/plain": [
              "   Id   ProductId          UserId                      ProfileName  \\\n",
              "0   1  B001E4KFG0  A3SGXH7AUHU8GW                       delmartian   \n",
              "1   2  B00813GRG4  A1D87F6ZCVE5NK                           dll pa   \n",
              "2   3  B000LQOCH0   ABXLMWJIXXAIN  Natalia Corres \"Natalia Corres\"   \n",
              "3   4  B000UA0QIQ  A395BORC6FGVXV                             Karl   \n",
              "4   5  B006K2ZZ7K  A1UQRSCLF8GW1T    Michael D. Bigham \"M. Wassir\"   \n",
              "\n",
              "   HelpfulnessNumerator  HelpfulnessDenominator  Score        Time  \\\n",
              "0                     1                       1      5  1303862400   \n",
              "1                     0                       0      1  1346976000   \n",
              "2                     1                       1      4  1219017600   \n",
              "3                     3                       3      2  1307923200   \n",
              "4                     0                       0      5  1350777600   \n",
              "\n",
              "                 Summary                                               Text  \n",
              "0  Good Quality Dog Food  I have bought several of the Vitality canned d...  \n",
              "1      Not as Advertised  Product arrived labeled as Jumbo Salted Peanut...  \n",
              "2  \"Delight\" says it all  This is a confection that has been around a fe...  \n",
              "3         Cough Medicine  If you are looking for the secret ingredient i...  \n",
              "4            Great taffy  Great taffy at a great price.  There was a wid...  "
            ]
          },
          "metadata": {
            "tags": []
          },
          "execution_count": 5
        }
      ]
    },
    {
      "cell_type": "code",
      "metadata": {
        "id": "qfJxu3SfuLZQ",
        "colab_type": "code",
        "colab": {},
        "outputId": "373a0e05-4cf9-4ee6-86cc-8aa1c8126156"
      },
      "source": [
        "df.columns"
      ],
      "execution_count": 0,
      "outputs": [
        {
          "output_type": "execute_result",
          "data": {
            "text/plain": [
              "Index(['Id', 'ProductId', 'UserId', 'ProfileName', 'HelpfulnessNumerator',\n",
              "       'HelpfulnessDenominator', 'Score', 'Time', 'Summary', 'Text'],\n",
              "      dtype='object')"
            ]
          },
          "metadata": {
            "tags": []
          },
          "execution_count": 8
        }
      ]
    },
    {
      "cell_type": "markdown",
      "metadata": {
        "id": "PHh_9i7IuLZk",
        "colab_type": "text"
      },
      "source": [
        "### If we see the Score column, it has values 1,2,3,4,5 . Considering 1, 2 as Negative reviews and 4, 5 as Positive reviews. For Score = 3 we will consider it as Neutral review and lets delete the rows that are neutral, so that we can predict either Positive or Negative"
      ]
    },
    {
      "cell_type": "code",
      "metadata": {
        "id": "S4xtoH1tuLZk",
        "colab_type": "code",
        "colab": {}
      },
      "source": [
        "# Removing neutral reviews\n",
        "df_1 = df[df['Score']!=3] "
      ],
      "execution_count": 0,
      "outputs": []
    },
    {
      "cell_type": "code",
      "metadata": {
        "id": "-F1oXruBuLZw",
        "colab_type": "code",
        "colab": {}
      },
      "source": [
        "#Converting Score values into class label either Posituve or Negative.\n",
        "def partition(x):\n",
        "    if x < 3:\n",
        "        return 'positive'\n",
        "    return 'negative'\n",
        "\n",
        "score_upd = df_1['Score']\n",
        "t = score_upd.map(partition)\n",
        "df_1['Score']=t"
      ],
      "execution_count": 0,
      "outputs": []
    },
    {
      "cell_type": "code",
      "metadata": {
        "id": "P5E99ywmuLaA",
        "colab_type": "code",
        "colab": {},
        "outputId": "601572d7-ccfe-430c-83d9-71adc85883d3"
      },
      "source": [
        "df_1.head()"
      ],
      "execution_count": 0,
      "outputs": [
        {
          "output_type": "execute_result",
          "data": {
            "text/html": [
              "<div>\n",
              "<style scoped>\n",
              "    .dataframe tbody tr th:only-of-type {\n",
              "        vertical-align: middle;\n",
              "    }\n",
              "\n",
              "    .dataframe tbody tr th {\n",
              "        vertical-align: top;\n",
              "    }\n",
              "\n",
              "    .dataframe thead th {\n",
              "        text-align: right;\n",
              "    }\n",
              "</style>\n",
              "<table border=\"1\" class=\"dataframe\">\n",
              "  <thead>\n",
              "    <tr style=\"text-align: right;\">\n",
              "      <th></th>\n",
              "      <th>Id</th>\n",
              "      <th>ProductId</th>\n",
              "      <th>UserId</th>\n",
              "      <th>ProfileName</th>\n",
              "      <th>HelpfulnessNumerator</th>\n",
              "      <th>HelpfulnessDenominator</th>\n",
              "      <th>Score</th>\n",
              "      <th>Time</th>\n",
              "      <th>Summary</th>\n",
              "      <th>Text</th>\n",
              "    </tr>\n",
              "  </thead>\n",
              "  <tbody>\n",
              "    <tr>\n",
              "      <th>0</th>\n",
              "      <td>1</td>\n",
              "      <td>B001E4KFG0</td>\n",
              "      <td>A3SGXH7AUHU8GW</td>\n",
              "      <td>delmartian</td>\n",
              "      <td>1</td>\n",
              "      <td>1</td>\n",
              "      <td>negative</td>\n",
              "      <td>1303862400</td>\n",
              "      <td>Good Quality Dog Food</td>\n",
              "      <td>I have bought several of the Vitality canned d...</td>\n",
              "    </tr>\n",
              "    <tr>\n",
              "      <th>1</th>\n",
              "      <td>2</td>\n",
              "      <td>B00813GRG4</td>\n",
              "      <td>A1D87F6ZCVE5NK</td>\n",
              "      <td>dll pa</td>\n",
              "      <td>0</td>\n",
              "      <td>0</td>\n",
              "      <td>positive</td>\n",
              "      <td>1346976000</td>\n",
              "      <td>Not as Advertised</td>\n",
              "      <td>Product arrived labeled as Jumbo Salted Peanut...</td>\n",
              "    </tr>\n",
              "    <tr>\n",
              "      <th>2</th>\n",
              "      <td>3</td>\n",
              "      <td>B000LQOCH0</td>\n",
              "      <td>ABXLMWJIXXAIN</td>\n",
              "      <td>Natalia Corres \"Natalia Corres\"</td>\n",
              "      <td>1</td>\n",
              "      <td>1</td>\n",
              "      <td>negative</td>\n",
              "      <td>1219017600</td>\n",
              "      <td>\"Delight\" says it all</td>\n",
              "      <td>This is a confection that has been around a fe...</td>\n",
              "    </tr>\n",
              "    <tr>\n",
              "      <th>3</th>\n",
              "      <td>4</td>\n",
              "      <td>B000UA0QIQ</td>\n",
              "      <td>A395BORC6FGVXV</td>\n",
              "      <td>Karl</td>\n",
              "      <td>3</td>\n",
              "      <td>3</td>\n",
              "      <td>positive</td>\n",
              "      <td>1307923200</td>\n",
              "      <td>Cough Medicine</td>\n",
              "      <td>If you are looking for the secret ingredient i...</td>\n",
              "    </tr>\n",
              "    <tr>\n",
              "      <th>4</th>\n",
              "      <td>5</td>\n",
              "      <td>B006K2ZZ7K</td>\n",
              "      <td>A1UQRSCLF8GW1T</td>\n",
              "      <td>Michael D. Bigham \"M. Wassir\"</td>\n",
              "      <td>0</td>\n",
              "      <td>0</td>\n",
              "      <td>negative</td>\n",
              "      <td>1350777600</td>\n",
              "      <td>Great taffy</td>\n",
              "      <td>Great taffy at a great price.  There was a wid...</td>\n",
              "    </tr>\n",
              "  </tbody>\n",
              "</table>\n",
              "</div>"
            ],
            "text/plain": [
              "   Id   ProductId          UserId                      ProfileName  \\\n",
              "0   1  B001E4KFG0  A3SGXH7AUHU8GW                       delmartian   \n",
              "1   2  B00813GRG4  A1D87F6ZCVE5NK                           dll pa   \n",
              "2   3  B000LQOCH0   ABXLMWJIXXAIN  Natalia Corres \"Natalia Corres\"   \n",
              "3   4  B000UA0QIQ  A395BORC6FGVXV                             Karl   \n",
              "4   5  B006K2ZZ7K  A1UQRSCLF8GW1T    Michael D. Bigham \"M. Wassir\"   \n",
              "\n",
              "   HelpfulnessNumerator  HelpfulnessDenominator     Score        Time  \\\n",
              "0                     1                       1  negative  1303862400   \n",
              "1                     0                       0  positive  1346976000   \n",
              "2                     1                       1  negative  1219017600   \n",
              "3                     3                       3  positive  1307923200   \n",
              "4                     0                       0  negative  1350777600   \n",
              "\n",
              "                 Summary                                               Text  \n",
              "0  Good Quality Dog Food  I have bought several of the Vitality canned d...  \n",
              "1      Not as Advertised  Product arrived labeled as Jumbo Salted Peanut...  \n",
              "2  \"Delight\" says it all  This is a confection that has been around a fe...  \n",
              "3         Cough Medicine  If you are looking for the secret ingredient i...  \n",
              "4            Great taffy  Great taffy at a great price.  There was a wid...  "
            ]
          },
          "metadata": {
            "tags": []
          },
          "execution_count": 12
        }
      ]
    },
    {
      "cell_type": "markdown",
      "metadata": {
        "id": "FgUkdIqEuLaM",
        "colab_type": "text"
      },
      "source": [
        "## Preprocessing - \n",
        "\n",
        "### 1). Data Cleaning: Deduplication\n",
        "Reviews may have duplicate entries. Hence it is necessary to remove duplicates in order to get unbiased results for the analysis of the data."
      ]
    },
    {
      "cell_type": "code",
      "metadata": {
        "id": "m6XFIn3puLaM",
        "colab_type": "code",
        "colab": {}
      },
      "source": [
        "# Dropping duplicates\n",
        "final_data = df_1.drop_duplicates(subset={\"UserId\",\"ProfileName\",\"Time\",\"Text\"})"
      ],
      "execution_count": 0,
      "outputs": []
    },
    {
      "cell_type": "markdown",
      "metadata": {
        "id": "hG_KIUV-uLaY",
        "colab_type": "text"
      },
      "source": [
        "### 2). Helpfulness Numerator should always be less than Helpfulness Denominator\n",
        "#### Helfulness Numerator says about number of people found that review useful and HelpfulnessDenominator is about useful review count + not so useful count. So, from this we can see that HelfulnessNumerator is always less than or equal to HelpfulnesDenominator"
      ]
    },
    {
      "cell_type": "code",
      "metadata": {
        "id": "g3kSsPiKuLaY",
        "colab_type": "code",
        "colab": {}
      },
      "source": [
        "# Helpfulness numerator should always be less than Denominator\n",
        "final = final_data[final_data['HelpfulnessNumerator'] <= final_data['HelpfulnessDenominator']]"
      ],
      "execution_count": 0,
      "outputs": []
    },
    {
      "cell_type": "code",
      "metadata": {
        "id": "Fn5yRe9quLag",
        "colab_type": "code",
        "colab": {}
      },
      "source": [
        "final_X = final['Text']\n",
        "final_y = final['Score']"
      ],
      "execution_count": 0,
      "outputs": []
    },
    {
      "cell_type": "markdown",
      "metadata": {
        "id": "oLSk_g2BuLas",
        "colab_type": "text"
      },
      "source": [
        "### 3. Converting all words to lowercase and removing punctuations and html tags if any\n",
        "###  Stemming- Converting the words into their base word or stem word ( Ex - tastefully, tasty, these words are converted to stem word called 'tasti'). This reduces the vector dimension because we dont consider all similar words\n",
        "### Stopwords - Stopwords are the unnecessary words that even if they are removed the sentiment of the sentence dosent change.\n",
        "### Ex - This pasta is so tasty ==> pasta tasty ( This , is, so are stopwords so they are removed)\n",
        "### To see all the stopwords see the below code cell.\n"
      ]
    },
    {
      "cell_type": "code",
      "metadata": {
        "id": "FAxHda0QuLaw",
        "colab_type": "code",
        "colab": {},
        "outputId": "7b9ab34c-3034-49b0-d8fb-326461be75b4"
      },
      "source": [
        "stop = set(stopwords.words('english')) \n",
        "print(stop)"
      ],
      "execution_count": 0,
      "outputs": [
        {
          "output_type": "stream",
          "text": [
            "{'those', 'been', 'whom', 'them', 'off', 'couldn', 'above', 'through', \"that'll\", 'have', \"wouldn't\", 'so', 'myself', \"don't\", \"hadn't\", 'out', 'very', 'or', 'until', 'a', 's', 'am', 'mightn', \"couldn't\", 'we', 'of', 'between', 'just', \"won't\", 'then', 'doesn', 't', 'yours', 'why', \"it's\", 'm', 'they', 'you', 'now', 'which', 'your', 'an', 'yourselves', 'from', 'haven', 'theirs', 'having', \"doesn't\", 'she', 'their', 'will', \"weren't\", 'under', 'again', 'further', 'for', 'wasn', 'needn', 're', 'itself', 'yourself', 'weren', 'each', 'own', 'against', 'aren', 'being', 'because', 'over', 'hasn', 'only', 'into', 'some', 'these', 'll', 'with', 'not', 'while', 'no', 'ourselves', \"you're\", 'has', 'this', 'are', 'such', 'all', 'hers', 'his', \"needn't\", 'didn', 'ours', 'in', \"you'd\", \"you've\", 'themselves', 'isn', 'and', 'how', \"mustn't\", 'i', \"aren't\", 'than', 'up', 'our', 'when', 'is', 'me', 'few', 'here', 'during', 'after', 'did', 'other', 'ma', 'd', 'shouldn', 'it', \"should've\", \"didn't\", 'at', \"she's\", 'its', 'mustn', 'to', 'if', 'won', 'had', 'down', 'her', 'that', 'there', 'was', 'don', 'does', 'doing', 'before', 'himself', 'herself', 'most', 'by', 've', \"isn't\", 'what', 'nor', 'below', 'my', 'who', 'the', 'ain', \"haven't\", 'same', 'do', 'he', 'o', 'can', 'were', \"hasn't\", \"shouldn't\", 'more', 'shan', \"wasn't\", 'should', 'about', 'hadn', 'him', 'too', 'once', 'where', \"you'll\", 'wouldn', \"mightn't\", 'be', \"shan't\", 'y', 'any', 'but', 'as', 'on', 'both'}\n"
          ],
          "name": "stdout"
        }
      ]
    },
    {
      "cell_type": "code",
      "metadata": {
        "id": "d_gSySGGuLa4",
        "colab_type": "code",
        "colab": {}
      },
      "source": [
        "import re\n",
        "temp =[]\n",
        "snow = nltk.stem.SnowballStemmer('english')\n",
        "for sentence in final_X:\n",
        "    sentence = sentence.lower()                 # Converting to lowercase\n",
        "    cleanr = re.compile('<.*?>')\n",
        "    sentence = re.sub(cleanr, ' ', sentence)        #Removing HTML tags\n",
        "    sentence = re.sub(r'[?|!|\\'|\"|#]',r'',sentence)\n",
        "    sentence = re.sub(r'[.|,|)|(|\\|/]',r' ',sentence)        #Removing Punctuations\n",
        "    \n",
        "    words = [snow.stem(word) for word in sentence.split() if word not in stopwords.words('english')]   # Stemming and removing stopwords\n",
        "    temp.append(words)\n",
        "    \n",
        "final_X = temp    "
      ],
      "execution_count": 0,
      "outputs": []
    },
    {
      "cell_type": "code",
      "metadata": {
        "id": "QLtwrT9TuLbA",
        "colab_type": "code",
        "colab": {},
        "outputId": "fc5c458f-136c-4ec4-e0e6-a5fa2da31f72"
      },
      "source": [
        "print(final_X[1])"
      ],
      "execution_count": 0,
      "outputs": [
        {
          "output_type": "stream",
          "text": [
            "['product', 'arriv', 'label', 'jumbo', 'salt', 'peanut', 'peanut', 'actual', 'small', 'size', 'unsalt', 'sure', 'error', 'vendor', 'intend', 'repres', 'product', 'jumbo']\n"
          ],
          "name": "stdout"
        }
      ]
    },
    {
      "cell_type": "code",
      "metadata": {
        "id": "cMjCGMZXuLbM",
        "colab_type": "code",
        "colab": {},
        "outputId": "15274871-da9e-4be3-ee15-188175f637d6"
      },
      "source": [
        "sent = []\n",
        "for row in final_X:\n",
        "    sequ = ''\n",
        "    for word in row:\n",
        "        sequ = sequ + ' ' + word\n",
        "    sent.append(sequ)\n",
        "\n",
        "final_X = sent\n",
        "print(final_X[1])"
      ],
      "execution_count": 0,
      "outputs": [
        {
          "output_type": "stream",
          "text": [
            " product arriv label jumbo salt peanut peanut actual small size unsalt sure error vendor intend repres product jumbo\n"
          ],
          "name": "stdout"
        }
      ]
    }
  ]
}