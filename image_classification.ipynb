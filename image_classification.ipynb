{
  "nbformat": 4,
  "nbformat_minor": 0,
  "metadata": {
    "colab": {
      "name": "image classification.ipynb",
      "provenance": [],
      "authorship_tag": "ABX9TyOWbM2KmfXaNsTB1aLjNShE",
      "include_colab_link": true
    },
    "kernelspec": {
      "name": "python3",
      "display_name": "Python 3"
    },
    "accelerator": "GPU"
  },
  "cells": [
    {
      "cell_type": "markdown",
      "metadata": {
        "id": "view-in-github",
        "colab_type": "text"
      },
      "source": [
        "<a href=\"https://colab.research.google.com/github/krvamsi96/pro-machine-learning-algorithms/blob/master/image_classification.ipynb\" target=\"_parent\"><img src=\"https://colab.research.google.com/assets/colab-badge.svg\" alt=\"Open In Colab\"/></a>"
      ]
    },
    {
      "cell_type": "code",
      "metadata": {
        "id": "FN-sJDqMlaCe",
        "colab_type": "code",
        "colab": {}
      },
      "source": [
        "#datasets:https://www.hackerearth.com/challenges/competitive/hackerearth-deep-learning-challenge-auto-tag-images-gala/\n",
        "import os\n",
        "import pandas as pd\n",
        "import numpy as np\n",
        "import seaborn as sns\n",
        "import cv2\n",
        "from tqdm import tqdm\n",
        "import matplotlib.pyplot as plt"
      ],
      "execution_count": 0,
      "outputs": []
    },
    {
      "cell_type": "code",
      "metadata": {
        "id": "Ag9KA43_ljyG",
        "colab_type": "code",
        "outputId": "8342c9d8-732e-48be-fef6-7887989d2912",
        "colab": {
          "base_uri": "https://localhost:8080/",
          "height": 120
        }
      },
      "source": [
        "from google.colab import drive\n",
        "drive.mount('/content/gdrive')\n"
      ],
      "execution_count": 0,
      "outputs": [
        {
          "output_type": "stream",
          "text": [
            "Go to this URL in a browser: https://accounts.google.com/o/oauth2/auth?client_id=947318989803-6bn6qk8qdgf4n4g3pfee6491hc0brc4i.apps.googleusercontent.com&redirect_uri=urn%3aietf%3awg%3aoauth%3a2.0%3aoob&response_type=code&scope=email%20https%3a%2f%2fwww.googleapis.com%2fauth%2fdocs.test%20https%3a%2f%2fwww.googleapis.com%2fauth%2fdrive%20https%3a%2f%2fwww.googleapis.com%2fauth%2fdrive.photos.readonly%20https%3a%2f%2fwww.googleapis.com%2fauth%2fpeopleapi.readonly\n",
            "\n",
            "Enter your authorization code:\n",
            "··········\n",
            "Mounted at /content/gdrive\n"
          ],
          "name": "stdout"
        }
      ]
    },
    {
      "cell_type": "code",
      "metadata": {
        "id": "am6TcyjRlnDM",
        "colab_type": "code",
        "colab": {}
      },
      "source": [
        "train=pd.read_csv(\"/content/gdrive/My Drive/Dddd/train.csv\")\n",
        "test=pd.read_csv(\"/content/gdrive/My Drive/Dddd/test.csv\")"
      ],
      "execution_count": 0,
      "outputs": []
    },
    {
      "cell_type": "code",
      "metadata": {
        "id": "ruDibVbll0mI",
        "colab_type": "code",
        "outputId": "84437587-144a-4e06-ce6b-4ba705fd0fe6",
        "colab": {
          "base_uri": "https://localhost:8080/",
          "height": 198
        }
      },
      "source": [
        "train.head()"
      ],
      "execution_count": 0,
      "outputs": [
        {
          "output_type": "execute_result",
          "data": {
            "text/html": [
              "<div>\n",
              "<style scoped>\n",
              "    .dataframe tbody tr th:only-of-type {\n",
              "        vertical-align: middle;\n",
              "    }\n",
              "\n",
              "    .dataframe tbody tr th {\n",
              "        vertical-align: top;\n",
              "    }\n",
              "\n",
              "    .dataframe thead th {\n",
              "        text-align: right;\n",
              "    }\n",
              "</style>\n",
              "<table border=\"1\" class=\"dataframe\">\n",
              "  <thead>\n",
              "    <tr style=\"text-align: right;\">\n",
              "      <th></th>\n",
              "      <th>Image</th>\n",
              "      <th>Class</th>\n",
              "    </tr>\n",
              "  </thead>\n",
              "  <tbody>\n",
              "    <tr>\n",
              "      <th>0</th>\n",
              "      <td>image7042.jpg</td>\n",
              "      <td>Food</td>\n",
              "    </tr>\n",
              "    <tr>\n",
              "      <th>1</th>\n",
              "      <td>image3327.jpg</td>\n",
              "      <td>misc</td>\n",
              "    </tr>\n",
              "    <tr>\n",
              "      <th>2</th>\n",
              "      <td>image10335.jpg</td>\n",
              "      <td>Attire</td>\n",
              "    </tr>\n",
              "    <tr>\n",
              "      <th>3</th>\n",
              "      <td>image8019.jpg</td>\n",
              "      <td>Food</td>\n",
              "    </tr>\n",
              "    <tr>\n",
              "      <th>4</th>\n",
              "      <td>image2128.jpg</td>\n",
              "      <td>Attire</td>\n",
              "    </tr>\n",
              "  </tbody>\n",
              "</table>\n",
              "</div>"
            ],
            "text/plain": [
              "            Image   Class\n",
              "0   image7042.jpg    Food\n",
              "1   image3327.jpg    misc\n",
              "2  image10335.jpg  Attire\n",
              "3   image8019.jpg    Food\n",
              "4   image2128.jpg  Attire"
            ]
          },
          "metadata": {
            "tags": []
          },
          "execution_count": 8
        }
      ]
    },
    {
      "cell_type": "code",
      "metadata": {
        "id": "VyQRM_oemvRe",
        "colab_type": "code",
        "outputId": "586d105a-08cc-4817-f317-166cb52f9b5c",
        "colab": {
          "base_uri": "https://localhost:8080/",
          "height": 198
        }
      },
      "source": [
        "test.head()"
      ],
      "execution_count": 0,
      "outputs": [
        {
          "output_type": "execute_result",
          "data": {
            "text/html": [
              "<div>\n",
              "<style scoped>\n",
              "    .dataframe tbody tr th:only-of-type {\n",
              "        vertical-align: middle;\n",
              "    }\n",
              "\n",
              "    .dataframe tbody tr th {\n",
              "        vertical-align: top;\n",
              "    }\n",
              "\n",
              "    .dataframe thead th {\n",
              "        text-align: right;\n",
              "    }\n",
              "</style>\n",
              "<table border=\"1\" class=\"dataframe\">\n",
              "  <thead>\n",
              "    <tr style=\"text-align: right;\">\n",
              "      <th></th>\n",
              "      <th>Image</th>\n",
              "    </tr>\n",
              "  </thead>\n",
              "  <tbody>\n",
              "    <tr>\n",
              "      <th>0</th>\n",
              "      <td>image6245.jpg</td>\n",
              "    </tr>\n",
              "    <tr>\n",
              "      <th>1</th>\n",
              "      <td>image10409.jpg</td>\n",
              "    </tr>\n",
              "    <tr>\n",
              "      <th>2</th>\n",
              "      <td>image8692.jpg</td>\n",
              "    </tr>\n",
              "    <tr>\n",
              "      <th>3</th>\n",
              "      <td>image10517.jpg</td>\n",
              "    </tr>\n",
              "    <tr>\n",
              "      <th>4</th>\n",
              "      <td>image2580.jpg</td>\n",
              "    </tr>\n",
              "  </tbody>\n",
              "</table>\n",
              "</div>"
            ],
            "text/plain": [
              "            Image\n",
              "0   image6245.jpg\n",
              "1  image10409.jpg\n",
              "2   image8692.jpg\n",
              "3  image10517.jpg\n",
              "4   image2580.jpg"
            ]
          },
          "metadata": {
            "tags": []
          },
          "execution_count": 9
        }
      ]
    },
    {
      "cell_type": "code",
      "metadata": {
        "id": "cn4W9u7JmzzV",
        "colab_type": "code",
        "colab": {}
      },
      "source": [
        "Class_map={'Food':0,'Attire':1,'Decorationandsignage':2,'misc':3}\n",
        "inverse_map={0:'Food',1:'Attire',2:'Decorationandsignage',3:'misc'}\n",
        "train['Class']=train['Class'].map(Class_map)"
      ],
      "execution_count": 0,
      "outputs": []
    },
    {
      "cell_type": "code",
      "metadata": {
        "id": "ksCFDzbYm6z_",
        "colab_type": "code",
        "outputId": "bd32b06e-54bb-4557-98bb-76adf106fa88",
        "colab": {
          "base_uri": "https://localhost:8080/",
          "height": 217
        }
      },
      "source": [
        "train['Class']\n"
      ],
      "execution_count": 0,
      "outputs": [
        {
          "output_type": "execute_result",
          "data": {
            "text/plain": [
              "0       0\n",
              "1       3\n",
              "2       1\n",
              "3       0\n",
              "4       1\n",
              "       ..\n",
              "5978    0\n",
              "5979    1\n",
              "5980    0\n",
              "5981    0\n",
              "5982    1\n",
              "Name: Class, Length: 5983, dtype: int64"
            ]
          },
          "metadata": {
            "tags": []
          },
          "execution_count": 11
        }
      ]
    },
    {
      "cell_type": "code",
      "metadata": {
        "id": "YfQPwVeRm-zN",
        "colab_type": "code",
        "outputId": "bd7ef8f0-b4e4-4066-b5ee-70fab6eb2618",
        "colab": {
          "base_uri": "https://localhost:8080/",
          "height": 33
        }
      },
      "source": [
        "train_img=[]\n",
        "train_label=[]\n",
        "j=0\n",
        "path=\"/content/gdrive/My Drive/Dddd/Train Images\"\n",
        "for i in tqdm(train['Image']):\n",
        "    final_path=os.path.join(path,i)\n",
        "    img=cv2.imread(final_path)\n",
        "    img=cv2.resize(img,(150,150))\n",
        "    img=img.astype('float32')\n",
        "    train_img.append(img)\n",
        "    train_label.append(train['Class'][j])\n",
        "    j=j+1"
      ],
      "execution_count": 0,
      "outputs": [
        {
          "output_type": "stream",
          "text": [
            "100%|██████████| 5983/5983 [29:21<00:00,  3.40it/s]\n"
          ],
          "name": "stderr"
        }
      ]
    },
    {
      "cell_type": "code",
      "metadata": {
        "id": "bgzGan-_nDze",
        "colab_type": "code",
        "colab": {}
      },
      "source": [
        "from tensorflow.keras.preprocessing.image import ImageDataGenerator"
      ],
      "execution_count": 0,
      "outputs": []
    },
    {
      "cell_type": "code",
      "metadata": {
        "id": "kMDvb7x0nlud",
        "colab_type": "code",
        "colab": {}
      },
      "source": [
        "data=ImageDataGenerator(featurewise_center=False,\n",
        "                        samplewise_center=False,\n",
        "                        featurewise_std_normalization=False,\n",
        "                        samplewise_std_normalization=False,\n",
        "                        zca_whitening=False,\n",
        "                         rotation_range=10,\n",
        "                        zoom_range = 0.1,\n",
        "                        width_shift_range=0.2,\n",
        "                        height_shift_range=0.2,\n",
        "                        horizontal_flip=True,\n",
        "                        vertical_flip=False)\n",
        "data.fit(train_img)"
      ],
      "execution_count": 0,
      "outputs": []
    },
    {
      "cell_type": "code",
      "metadata": {
        "id": "o-yPqRX0nmAO",
        "colab_type": "code",
        "outputId": "9038c412-4734-443c-f41a-5b5cfafdbb5f",
        "colab": {
          "base_uri": "https://localhost:8080/",
          "height": 33
        }
      },
      "source": [
        "test_img=[]\n",
        "path=\"/content/gdrive/My Drive/Dddd/Test Images\"\n",
        "for i in tqdm(test['Image']):\n",
        "    final_path=os.path.join(path,i)\n",
        "    img=cv2.imread(final_path)\n",
        "    img=cv2.resize(img,(150,150))\n",
        "    img=img.astype('float32')\n",
        "    test_img.append(img)"
      ],
      "execution_count": 0,
      "outputs": [
        {
          "output_type": "stream",
          "text": [
            "100%|██████████| 3219/3219 [17:16<00:00,  3.11it/s]\n"
          ],
          "name": "stderr"
        }
      ]
    },
    {
      "cell_type": "code",
      "metadata": {
        "id": "JWznTp6XnmIj",
        "colab_type": "code",
        "outputId": "589e030f-a30d-4764-bb05-6374f4f10b76",
        "colab": {
          "base_uri": "https://localhost:8080/",
          "height": 67
        }
      },
      "source": [
        "train_img=np.array(train_img)\n",
        "test_img=np.array(test_img)\n",
        "train_label=np.array(train_label)\n",
        "print(train_img.shape)\n",
        "print(test_img.shape)\n",
        "print(train_label.shape)"
      ],
      "execution_count": 0,
      "outputs": [
        {
          "output_type": "stream",
          "text": [
            "(5983, 150, 150, 3)\n",
            "(3219, 150, 150, 3)\n",
            "(5983,)\n"
          ],
          "name": "stdout"
        }
      ]
    },
    {
      "cell_type": "code",
      "metadata": {
        "id": "tPAt082mzdsz",
        "colab_type": "code",
        "outputId": "55b553d0-902d-4e83-a6cd-0bdd2b159250",
        "colab": {
          "base_uri": "https://localhost:8080/",
          "height": 33
        }
      },
      "source": [
        "from tensorflow.keras.applications.vgg16 import VGG16\n",
        "from tensorflow.keras.layers import Flatten,Dense,Dropout,BatchNormalization\n",
        "from tensorflow.keras.models import Model,Sequential\n",
        "from tensorflow.keras.utils import to_categorical\n",
        "from keras.layers import Conv2D, MaxPooling2D, BatchNormalization\n",
        "from tensorflow.keras.callbacks import ReduceLROnPlateau"
      ],
      "execution_count": 0,
      "outputs": [
        {
          "output_type": "stream",
          "text": [
            "Using TensorFlow backend.\n"
          ],
          "name": "stderr"
        }
      ]
    },
    {
      "cell_type": "code",
      "metadata": {
        "id": "PTKAQjCdzkPD",
        "colab_type": "code",
        "outputId": "eee6adf6-0858-4b80-ff55-060db48ddfbc",
        "colab": {
          "base_uri": "https://localhost:8080/",
          "height": 120
        }
      },
      "source": [
        "base_model=VGG16(include_top=False, weights='imagenet',input_shape=(150,150,3), pooling='avg')\n",
        "\n",
        "model=Sequential()\n",
        "model.add(base_model)\n",
        "\n",
        "model.add(Dense(256,activation='relu'))\n",
        "model.add(Dense(4,activation='softmax'))\n"
      ],
      "execution_count": 0,
      "outputs": [
        {
          "output_type": "stream",
          "text": [
            "WARNING:tensorflow:From /tensorflow-1.15.0/python3.6/tensorflow_core/python/ops/resource_variable_ops.py:1630: calling BaseResourceVariable.__init__ (from tensorflow.python.ops.resource_variable_ops) with constraint is deprecated and will be removed in a future version.\n",
            "Instructions for updating:\n",
            "If using Keras pass *_constraint arguments to layers.\n",
            "Downloading data from https://github.com/fchollet/deep-learning-models/releases/download/v0.1/vgg16_weights_tf_dim_ordering_tf_kernels_notop.h5\n",
            "58892288/58889256 [==============================] - 2s 0us/step\n"
          ],
          "name": "stdout"
        }
      ]
    },
    {
      "cell_type": "code",
      "metadata": {
        "id": "v9WyF0sZzt5N",
        "colab_type": "code",
        "colab": {}
      },
      "source": [
        "from keras.optimizers import Adam,SGD,Adagrad,Adadelta,RMSprop\n",
        "\n",
        "base_model.trainable=False\n",
        "\n",
        "reduce_learning_rate = ReduceLROnPlateau(monitor='loss',\n",
        "                                         factor=0.1,\n",
        "                                         patience=2,\n",
        "                                         cooldown=2,\n",
        "                                         min_lr=0.00001,\n",
        "                                         verbose=1)\n"
      ],
      "execution_count": 0,
      "outputs": []
    },
    {
      "cell_type": "code",
      "metadata": {
        "id": "0FZf6pcOz1QK",
        "colab_type": "code",
        "outputId": "33e6e2e0-87a4-44b7-f6d7-134127a78573",
        "colab": {
          "base_uri": "https://localhost:8080/",
          "height": 735
        }
      },
      "source": [
        "callbacks = [reduce_learning_rate]\n",
        "model.compile( optimizer='adam',loss='categorical_crossentropy',metrics=['accuracy'])\n",
        "model.fit_generator(data.flow(train_img, to_categorical(train_label,4), batch_size=32),\n",
        "                    epochs=20,callbacks=callbacks)"
      ],
      "execution_count": 0,
      "outputs": [
        {
          "output_type": "stream",
          "text": [
            "Epoch 1/20\n",
            "187/187 [==============================] - 33s 175ms/step - loss: 1.6340 - acc: 0.6370\n",
            "Epoch 2/20\n",
            "187/187 [==============================] - 28s 149ms/step - loss: 0.7660 - acc: 0.7299\n",
            "Epoch 3/20\n",
            "187/187 [==============================] - 28s 149ms/step - loss: 0.6095 - acc: 0.7623\n",
            "Epoch 4/20\n",
            "187/187 [==============================] - 28s 149ms/step - loss: 0.5423 - acc: 0.7921\n",
            "Epoch 5/20\n",
            "187/187 [==============================] - 28s 150ms/step - loss: 0.4741 - acc: 0.8202\n",
            "Epoch 6/20\n",
            "187/187 [==============================] - 28s 149ms/step - loss: 0.4286 - acc: 0.8367\n",
            "Epoch 7/20\n",
            "187/187 [==============================] - 28s 147ms/step - loss: 0.3908 - acc: 0.8533\n",
            "Epoch 8/20\n",
            "187/187 [==============================] - 27s 147ms/step - loss: 0.3831 - acc: 0.8593\n",
            "Epoch 9/20\n",
            "187/187 [==============================] - 28s 148ms/step - loss: 0.3492 - acc: 0.8663\n",
            "Epoch 10/20\n",
            "187/187 [==============================] - 28s 149ms/step - loss: 0.3256 - acc: 0.8785\n",
            "Epoch 11/20\n",
            "187/187 [==============================] - 28s 149ms/step - loss: 0.3144 - acc: 0.8817\n",
            "Epoch 12/20\n",
            "187/187 [==============================] - 28s 149ms/step - loss: 0.2941 - acc: 0.8892\n",
            "Epoch 13/20\n",
            "187/187 [==============================] - 27s 147ms/step - loss: 0.2620 - acc: 0.9041\n",
            "Epoch 14/20\n",
            "187/187 [==============================] - 28s 148ms/step - loss: 0.2699 - acc: 0.9026\n",
            "Epoch 15/20\n",
            "186/187 [============================>.] - ETA: 0s - loss: 0.2682 - acc: 0.9037\n",
            "Epoch 00015: ReduceLROnPlateau reducing learning rate to 0.00010000000474974513.\n",
            "187/187 [==============================] - 28s 149ms/step - loss: 0.2681 - acc: 0.9039\n",
            "Epoch 16/20\n",
            "187/187 [==============================] - 28s 147ms/step - loss: 0.1800 - acc: 0.9368\n",
            "Epoch 17/20\n",
            "187/187 [==============================] - 28s 149ms/step - loss: 0.1787 - acc: 0.9388\n",
            "Epoch 18/20\n",
            "187/187 [==============================] - 28s 151ms/step - loss: 0.1664 - acc: 0.9428\n",
            "Epoch 19/20\n",
            "187/187 [==============================] - 28s 150ms/step - loss: 0.1613 - acc: 0.9438\n",
            "Epoch 20/20\n",
            "187/187 [==============================] - 27s 147ms/step - loss: 0.1570 - acc: 0.9423\n"
          ],
          "name": "stdout"
        },
        {
          "output_type": "execute_result",
          "data": {
            "text/plain": [
              "<tensorflow.python.keras.callbacks.History at 0x7f458b1de3c8>"
            ]
          },
          "metadata": {
            "tags": []
          },
          "execution_count": 25
        }
      ]
    },
    {
      "cell_type": "code",
      "metadata": {
        "id": "yEme7YKK0BIw",
        "colab_type": "code",
        "outputId": "fc554955-215f-449f-bd2d-c6361ff48ea4",
        "colab": {
          "base_uri": "https://localhost:8080/",
          "height": 432
        }
      },
      "source": [
        "labels = model.predict(test_img)\n",
        "print(labels[:4])\n",
        "label = [np.argmax(i) for i in labels]\n",
        "class_label = [inverse_map[x] for x in label]\n",
        "print(class_label[:3])\n",
        "submission = pd.DataFrame({ 'Image': test.Image, 'Class': class_label })\n",
        "submission.head(10)"
      ],
      "execution_count": 0,
      "outputs": [
        {
          "output_type": "stream",
          "text": [
            "[[9.9399346e-01 5.7384989e-04 3.3458245e-03 2.0868562e-03]\n",
            " [3.1292313e-01 4.8855104e-06 3.9057380e-05 6.8703288e-01]\n",
            " [9.8741502e-01 1.0260729e-09 5.1396812e-12 1.2585021e-02]\n",
            " [9.9796766e-01 3.5682478e-11 4.1040445e-11 2.0323223e-03]]\n",
            "['Food', 'misc', 'Food']\n"
          ],
          "name": "stdout"
        },
        {
          "output_type": "execute_result",
          "data": {
            "text/html": [
              "<div>\n",
              "<style scoped>\n",
              "    .dataframe tbody tr th:only-of-type {\n",
              "        vertical-align: middle;\n",
              "    }\n",
              "\n",
              "    .dataframe tbody tr th {\n",
              "        vertical-align: top;\n",
              "    }\n",
              "\n",
              "    .dataframe thead th {\n",
              "        text-align: right;\n",
              "    }\n",
              "</style>\n",
              "<table border=\"1\" class=\"dataframe\">\n",
              "  <thead>\n",
              "    <tr style=\"text-align: right;\">\n",
              "      <th></th>\n",
              "      <th>Image</th>\n",
              "      <th>Class</th>\n",
              "    </tr>\n",
              "  </thead>\n",
              "  <tbody>\n",
              "    <tr>\n",
              "      <th>0</th>\n",
              "      <td>image6245.jpg</td>\n",
              "      <td>Food</td>\n",
              "    </tr>\n",
              "    <tr>\n",
              "      <th>1</th>\n",
              "      <td>image10409.jpg</td>\n",
              "      <td>misc</td>\n",
              "    </tr>\n",
              "    <tr>\n",
              "      <th>2</th>\n",
              "      <td>image8692.jpg</td>\n",
              "      <td>Food</td>\n",
              "    </tr>\n",
              "    <tr>\n",
              "      <th>3</th>\n",
              "      <td>image10517.jpg</td>\n",
              "      <td>Food</td>\n",
              "    </tr>\n",
              "    <tr>\n",
              "      <th>4</th>\n",
              "      <td>image2580.jpg</td>\n",
              "      <td>Attire</td>\n",
              "    </tr>\n",
              "    <tr>\n",
              "      <th>5</th>\n",
              "      <td>image848.jpg</td>\n",
              "      <td>Attire</td>\n",
              "    </tr>\n",
              "    <tr>\n",
              "      <th>6</th>\n",
              "      <td>image1232.jpg</td>\n",
              "      <td>Attire</td>\n",
              "    </tr>\n",
              "    <tr>\n",
              "      <th>7</th>\n",
              "      <td>image8386.jpg</td>\n",
              "      <td>misc</td>\n",
              "    </tr>\n",
              "    <tr>\n",
              "      <th>8</th>\n",
              "      <td>image9828.jpg</td>\n",
              "      <td>misc</td>\n",
              "    </tr>\n",
              "    <tr>\n",
              "      <th>9</th>\n",
              "      <td>image9033.jpg</td>\n",
              "      <td>Attire</td>\n",
              "    </tr>\n",
              "  </tbody>\n",
              "</table>\n",
              "</div>"
            ],
            "text/plain": [
              "            Image   Class\n",
              "0   image6245.jpg    Food\n",
              "1  image10409.jpg    misc\n",
              "2   image8692.jpg    Food\n",
              "3  image10517.jpg    Food\n",
              "4   image2580.jpg  Attire\n",
              "5    image848.jpg  Attire\n",
              "6   image1232.jpg  Attire\n",
              "7   image8386.jpg    misc\n",
              "8   image9828.jpg    misc\n",
              "9   image9033.jpg  Attire"
            ]
          },
          "metadata": {
            "tags": []
          },
          "execution_count": 26
        }
      ]
    },
    {
      "cell_type": "code",
      "metadata": {
        "id": "I7zCHd-B2dTb",
        "colab_type": "code",
        "colab": {}
      },
      "source": [
        "test.head"
      ],
      "execution_count": 0,
      "outputs": []
    },
    {
      "cell_type": "code",
      "metadata": {
        "id": "RmtpVqqSV94Y",
        "colab_type": "code",
        "colab": {}
      },
      "source": [
        ""
      ],
      "execution_count": 0,
      "outputs": []
    }
  ]
}